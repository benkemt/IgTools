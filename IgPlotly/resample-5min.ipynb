{
 "cells": [
  {
   "cell_type": "code",
   "execution_count": 1,
   "metadata": {},
   "outputs": [
    {
     "name": "stdout",
     "output_type": "stream",
     "text": [
      "Conversion to 5-minute candlestick data completed.\n"
     ]
    }
   ],
   "source": [
    "import os\n",
    "import pandas as pd\n",
    "\n",
    "# Define the directories\n",
    "data_dir = 'data'\n",
    "data5min_dir = 'data5min'\n",
    "\n",
    "# Create the output directory if it doesn't exist\n",
    "os.makedirs(data5min_dir, exist_ok=True)\n",
    "\n",
    "\n",
    "def compute_average_ask_bid(price_data):\n",
    "    if( price_data['Ask'] is not None and price_data['Bid'] is not None):\n",
    "        return (price_data['Ask'] + price_data['Bid']) / 2\n",
    "    else:\n",
    "        return None\n",
    "    \n",
    "\n",
    "# List all files in the data directory\n",
    "files = [f for f in os.listdir(data_dir) if f.endswith('.json')]\n",
    "\n",
    "# Process each file\n",
    "for file in files:\n",
    "    # Read the JSON file into a DataFrame\n",
    "    file_path = os.path.join(data_dir, file)\n",
    "    df = pd.read_json(file_path)\n",
    "    \n",
    "    # Ensure the 'SnapshotTime' column is in datetime format\n",
    "    df['SnapshotTime'] = pd.to_datetime(df['SnapshotTime'])\n",
    "    \n",
    "    # Set 'SnapshotTime' as the index\n",
    "    df.set_index('SnapshotTime', inplace=True)\n",
    "\n",
    "    df['openPrices'] = [compute_average_ask_bid(OpenPrice) for OpenPrice in df[\"OpenPrice\"]];\n",
    "    df['highPrices'] = [compute_average_ask_bid(HighPrice) for HighPrice in df[\"HighPrice\"]];\n",
    "    df['lowPrices'] = [compute_average_ask_bid(LowPrice) for LowPrice in df[\"LowPrice\"]];\n",
    "    df['closedprices'] = [compute_average_ask_bid(closedprice) for closedprice in df[\"ClosePrice\"]];\n",
    "    \n",
    "    # Resample to 5-minute candlestick data\n",
    "    df_5min = df.resample('5min').agg({\n",
    "        'openPrices': 'first',\n",
    "        'highPrices': 'max',\n",
    "        'lowPrices': 'min',\n",
    "        'closedprices': 'last'\n",
    "    })\n",
    "\n",
    "    df_5min.reset_index(inplace=True)\n",
    "    df_5min['SnapshotTime'] = df_5min['SnapshotTime'].dt.strftime('%Y-%m-%d %H:%M:%S')\n",
    "    \n",
    "    # Drop rows with NaN values (if any)\n",
    "    df_5min.dropna(inplace=True)\n",
    "    \n",
    "    # Save the resampled DataFrame to the data5min directory\n",
    "    output_file_path = os.path.join(data5min_dir, file)\n",
    "    df_5min.to_json(output_file_path, orient='records', date_format='iso', index=False)\n",
    "\n",
    "\n",
    "print(\"Conversion to 5-minute candlestick data completed.\")"
   ]
  }
 ],
 "metadata": {
  "kernelspec": {
   "display_name": "Python 3",
   "language": "python",
   "name": "python3"
  },
  "language_info": {
   "codemirror_mode": {
    "name": "ipython",
    "version": 3
   },
   "file_extension": ".py",
   "mimetype": "text/x-python",
   "name": "python",
   "nbconvert_exporter": "python",
   "pygments_lexer": "ipython3",
   "version": "3.12.8"
  }
 },
 "nbformat": 4,
 "nbformat_minor": 2
}
